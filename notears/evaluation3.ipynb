{
 "cells": [
  {
   "cell_type": "code",
   "execution_count": 13,
   "metadata": {},
   "outputs": [],
   "source": [
    "import numpy as np\n",
    "import utils\n",
    "import linear\n",
    "import pandas as pd\n",
    "import scipy\n",
    "import math\n",
    "import scipy\n",
    "import matplotlib.pyplot as plt"
   ]
  },
  {
   "cell_type": "code",
   "execution_count": 6,
   "metadata": {},
   "outputs": [
    {
     "data": {
      "text/plain": [
       "True"
      ]
     },
     "execution_count": 6,
     "metadata": {},
     "output_type": "execute_result"
    }
   ],
   "source": [
    "all(np.array([1,2,3])>0)"
   ]
  },
  {
   "cell_type": "code",
   "execution_count": 15,
   "metadata": {},
   "outputs": [],
   "source": [
    "def estimate_once(n, d, s0, graph_type, sem_type, lambda1=0.1, loss_type='l2'):\n",
    "    B_true = utils.simulate_dag(d, s0, graph_type)\n",
    "    W_true = utils.simulate_parameter(B_true)\n",
    "    X = utils.simulate_linear_sem(W_true, n, sem_type)\n",
    "    return linear.notears_linear(X, lambda1=lambda1, loss_type=loss_type)\n",
    "    #print(\"n, d, s0, graph_type, sem_type\", \"\\n\", n, d, s0, graph_type, sem_type, \"\\n\",  utils.count_accuracy(B_true, W_est_notears!=0))\n"
   ]
  },
  {
   "cell_type": "code",
   "execution_count": 18,
   "metadata": {},
   "outputs": [],
   "source": [
    "import time\n",
    "t1 = time.time()\n",
    "estimate_once(40, 40, 20, \"ER\", \"exp\")\n",
    "t2 = time.time()"
   ]
  }
 ],
 "metadata": {
  "kernelspec": {
   "display_name": "Python 3.9.12 ('base')",
   "language": "python",
   "name": "python3"
  },
  "language_info": {
   "codemirror_mode": {
    "name": "ipython",
    "version": 3
   },
   "file_extension": ".py",
   "mimetype": "text/x-python",
   "name": "python",
   "nbconvert_exporter": "python",
   "pygments_lexer": "ipython3",
   "version": "3.9.12"
  },
  "orig_nbformat": 4,
  "vscode": {
   "interpreter": {
    "hash": "17b8fe76efb4dec6ba4223296bf159357314769c639df3f6e5e6153d303f5f7d"
   }
  }
 },
 "nbformat": 4,
 "nbformat_minor": 2
}
