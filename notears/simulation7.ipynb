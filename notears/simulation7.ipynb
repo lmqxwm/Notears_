{
 "cells": [
  {
   "cell_type": "markdown",
   "metadata": {},
   "source": [
    "# Simulation 7\n",
    "\n",
    "**Mengqi Liu**\n",
    "\n",
    "**Oct 9， 2023**"
   ]
  },
  {
   "cell_type": "code",
   "execution_count": null,
   "metadata": {},
   "outputs": [],
   "source": [
    "import numpy as np\n",
    "import utils\n",
    "import linear\n",
    "import pandas as pd\n",
    "import scipy\n",
    "import math\n",
    "import scipy\n",
    "import matplotlib.pyplot as plt\n",
    "from itertools import permutations\n",
    "import random\n",
    "import seaborn as sns\n",
    "import linear2"
   ]
  },
  {
   "cell_type": "markdown",
   "metadata": {},
   "source": [
    "1. Correction for identification problem\n",
    "2. What is the learned graph? - continuous and discrete\n",
    "3. formalize for logistic scenarios\n",
    "4. Use SGLD for solving DAGMA (add some randomness)\n"
   ]
  }
 ],
 "metadata": {
  "kernelspec": {
   "display_name": "Python 3.9.12 ('base')",
   "language": "python",
   "name": "python3"
  },
  "language_info": {
   "name": "python",
   "version": "3.9.12"
  },
  "orig_nbformat": 4,
  "vscode": {
   "interpreter": {
    "hash": "17b8fe76efb4dec6ba4223296bf159357314769c639df3f6e5e6153d303f5f7d"
   }
  }
 },
 "nbformat": 4,
 "nbformat_minor": 2
}
