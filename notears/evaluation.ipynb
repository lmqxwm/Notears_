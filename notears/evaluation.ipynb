{
 "cells": [
  {
   "cell_type": "markdown",
   "metadata": {},
   "source": [
    "### implement notears\n",
    "**need put this file under /notear**"
   ]
  },
  {
   "cell_type": "code",
   "execution_count": 1,
   "metadata": {},
   "outputs": [],
   "source": [
    "import numpy as np\n",
    "import utils\n",
    "import linear\n",
    "import pandas as pd\n",
    "utils.set_random_seed(1)\n",
    "import scipy"
   ]
  },
  {
   "cell_type": "code",
   "execution_count": 2,
   "metadata": {},
   "outputs": [],
   "source": [
    "n, d, s0, graph_type, sem_type = 100, 20, 20, 'ER', 'gauss'\n",
    "# d (int): num of nodes\n",
    "# s0 (int): expected num of edges\n",
    "# graph_type (str): ER, SF, BP\n",
    "# n (int): num of samples, n=inf mimics population risk\n",
    "# sem_type (str): gauss, exp, gumbel, uniform, logistic, poisson\n",
    "\n",
    "B_true = utils.simulate_dag(d, s0, graph_type)\n",
    "W_true = utils.simulate_parameter(B_true)\n",
    "np.savetxt('W_true.csv', W_true, delimiter=',')\n",
    "\n",
    "X = utils.simulate_linear_sem(W_true, n, sem_type)\n",
    "#np.savetxt('X.csv', X, delimiter=',')\n",
    "\n",
    "W_est_notears = linear.notears_linear(X, lambda1=0.1, loss_type='l2')\n",
    "assert utils.is_dag(W_est_notears)\n",
    "np.savetxt('W_est_notears.csv', W_est_notears, delimiter=',')\n"
   ]
  },
  {
   "cell_type": "markdown",
   "metadata": {},
   "source": [
    "### implement glasso\n",
    "\n",
    "**Here I also use 0.3 as threshold and 1 as multiplier for penalty.**\n",
    "\n",
    "**Problem: probably not DAG**"
   ]
  },
  {
   "cell_type": "code",
   "execution_count": 3,
   "metadata": {},
   "outputs": [],
   "source": [
    "import rpy2.robjects as robjects  \n",
    "r_script = '''\n",
    "library(glasso)\n",
    "X = read.csv('X.csv', header=FALSE)\n",
    "X = data.matrix(X)\n",
    "w = matrix(0, nrow=ncol(X), ncol=ncol(X))\n",
    "for (i in c(1:ncol(X))){\n",
    "  a = glasso(t(X[,-c(i)]) %*% X[,-c(i)], rho=1)\n",
    "  w[-c(i), i] = a$wi %*% t(X[,-c(i)]) %*% X[, i]\n",
    "}\n",
    "w = (abs(w)>0.3) * w\n",
    "write.csv(w, 'W_est_glasso.csv')\n",
    "'''\n",
    "robjects.r(r_script)\n"
   ]
  },
  {
   "cell_type": "code",
   "execution_count": 4,
   "metadata": {},
   "outputs": [],
   "source": [
    "W_est_glasso = pd.read_csv('W_est_glasso.csv', index_col=0)\n",
    "W_est_glasso = np.array(W_est_glasso)"
   ]
  },
  {
   "cell_type": "markdown",
   "metadata": {},
   "source": [
    "### evaluation"
   ]
  },
  {
   "cell_type": "code",
   "execution_count": 7,
   "metadata": {},
   "outputs": [
    {
     "name": "stdout",
     "output_type": "stream",
     "text": [
      "Use Hamming distance as evaluation: [smaller is better]\n",
      "NOTEARS: 0.0025\n",
      "glasso: 0.0925\n",
      "\n",
      "Use Jaccard-Needham dissimilarity as evaluation: [smaller is better]\n",
      "NOTEARS: 0.0500\n",
      "glasso: 0.6852\n",
      "\n",
      "Use 2-norm as evaluation: [smaller is better]\n",
      "NOTEARS: 0.7233\n",
      "glasso: 2.0822\n",
      "\n",
      "Use built-in evaluation function as evaluation: [fdr, tpr, fpr, shd smaller is better]\n",
      "NOTEARS:  {'fdr': 0.0, 'tpr': 0.95, 'fpr': 0.0, 'shd': 1, 'nnz': 19}\n",
      "glasso:  {'fdr': 0.6666666666666666, 'tpr': 0.85, 'fpr': 0.2, 'shd': 31, 'nnz': 51}\n",
      "\n"
     ]
    }
   ],
   "source": [
    "# Hamming distance\n",
    "print(\"Use Hamming distance as evaluation: [smaller is better]\")\n",
    "print(\"NOTEARS: {:.4f}\".format(scipy.spatial.distance.hamming((W_est_notears!=0).reshape([-1,1]), B_true.reshape([-1,1]))))\n",
    "print(\"glasso: {:.4f}\".format(scipy.spatial.distance.hamming((W_est_glasso!=0).reshape([-1,1]), B_true.reshape([-1,1]))))\n",
    "print(\"\")\n",
    "\n",
    "# Jaccard distance\n",
    "print(\"Use Jaccard-Needham dissimilarity as evaluation: [smaller is better]\")\n",
    "print(\"NOTEARS: {:.4f}\".format(scipy.spatial.distance.jaccard((W_est_notears!=0).reshape([-1,1]), B_true.reshape([-1,1]))))\n",
    "print(\"glasso: {:.4f}\".format(scipy.spatial.distance.jaccard((W_est_glasso!=0).reshape([-1,1]), B_true.reshape([-1,1]))))\n",
    "print(\"\")\n",
    "\n",
    "# 2-norm\n",
    "print(\"Use 2-norm as evaluation: [smaller is better]\")\n",
    "print(\"NOTEARS: {:.4f}\".format(np.linalg.norm(W_est_notears-W_true, ord=2)))\n",
    "print(\"glasso: {:.4f}\".format(np.linalg.norm(W_est_glasso-W_true, ord=2)))\n",
    "print(\"\")\n",
    "\n",
    "# accuracy\n",
    "print(\"Use built-in evaluation function as evaluation: [fdr, tpr, fpr, shd smaller is better]\")\n",
    "print(\"NOTEARS: \", utils.count_accuracy(B_true, W_est_notears!=0))\n",
    "print(\"glasso: \", utils.count_accuracy(B_true, W_est_glasso!=0))\n",
    "print(\"\")\n"
   ]
  }
 ],
 "metadata": {
  "kernelspec": {
   "display_name": "Python 3.9.12 ('base')",
   "language": "python",
   "name": "python3"
  },
  "language_info": {
   "codemirror_mode": {
    "name": "ipython",
    "version": 3
   },
   "file_extension": ".py",
   "mimetype": "text/x-python",
   "name": "python",
   "nbconvert_exporter": "python",
   "pygments_lexer": "ipython3",
   "version": "3.9.12"
  },
  "orig_nbformat": 4,
  "vscode": {
   "interpreter": {
    "hash": "17b8fe76efb4dec6ba4223296bf159357314769c639df3f6e5e6153d303f5f7d"
   }
  }
 },
 "nbformat": 4,
 "nbformat_minor": 2
}
